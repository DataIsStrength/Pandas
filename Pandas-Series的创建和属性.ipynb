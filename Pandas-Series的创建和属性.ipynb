{
 "cells": [
  {
   "cell_type": "markdown",
   "metadata": {},
   "source": [
    "Pandas-Series的创建和属性"
   ]
  },
  {
   "cell_type": "code",
   "execution_count": 1,
   "metadata": {},
   "outputs": [],
   "source": [
    "#导入NumPy包\n",
    "import numpy as np\n",
    "#导入Pandas包\n",
    "import pandas as pd"
   ]
  },
  {
   "cell_type": "code",
   "execution_count": 2,
   "metadata": {},
   "outputs": [
    {
     "name": "stdout",
     "output_type": "stream",
     "text": [
      "     2018-01-01  2018-01-02  2018-01-03  2018-01-04  2018-01-05\n",
      "股票0    1.574180   -0.280745   -0.378070    1.594464    0.731729\n",
      "股票1   -0.901088    0.083511    0.041330   -0.017642   -0.168050\n",
      "股票2   -0.603130   -0.087053    0.458498    0.664294    2.148177\n",
      "股票3   -1.117737    0.698557   -0.437010   -0.233615    0.199097\n",
      "股票4    0.886549   -0.899448   -1.117522    0.746569    1.081509\n",
      "股票5    0.625758    0.714349    0.020763   -1.795348    0.851029\n",
      "股票6   -0.562220    0.144342   -0.192363    1.271076    0.994237\n",
      "股票7    0.272292    0.284672   -1.972983    1.646637   -1.131693\n",
      "股票8    0.378570   -0.819668   -0.621937   -1.306690    0.083266\n",
      "股票9    0.943739    0.052944   -0.019504   -0.903354    0.388823\n"
     ]
    }
   ],
   "source": [
    "#用NumPy数组创建DataFrame\n",
    "#生成随机数据\n",
    "stock_change=np.random.normal(0,1,(10,5))\n",
    "#设置行索引\n",
    "stock=['股票{}'.format(i) for i in range(10)]\n",
    "#设置列索引\n",
    "date=pd.date_range(start='20180101', periods=5, freq='B')\n",
    "#创建DataFrame\n",
    "df=pd.DataFrame(stock_change,index=stock,columns=date)\n",
    "print(df)"
   ]
  },
  {
   "cell_type": "code",
   "execution_count": 3,
   "metadata": {},
   "outputs": [
    {
     "name": "stdout",
     "output_type": "stream",
     "text": [
      "2018-01-01   -0.901088\n",
      "2018-01-02    0.083511\n",
      "2018-01-03    0.041330\n",
      "2018-01-04   -0.017642\n",
      "2018-01-05   -0.168050\n",
      "Freq: B, Name: 股票1, dtype: float64\n"
     ]
    }
   ],
   "source": [
    "#从DataFrame中提取Series\n",
    "sr=df.iloc[1,:]\n",
    "print(sr)"
   ]
  },
  {
   "cell_type": "code",
   "execution_count": 4,
   "metadata": {},
   "outputs": [
    {
     "name": "stdout",
     "output_type": "stream",
     "text": [
      "DatetimeIndex(['2018-01-01', '2018-01-02', '2018-01-03', '2018-01-04',\n",
      "               '2018-01-05'],\n",
      "              dtype='datetime64[ns]', freq='B')\n",
      "[-0.90108807  0.08351129  0.04133022 -0.01764215 -0.16804993]\n"
     ]
    }
   ],
   "source": [
    "#Series的属性\n",
    "print(sr.index)\n",
    "print(sr.values)"
   ]
  },
  {
   "cell_type": "code",
   "execution_count": 5,
   "metadata": {},
   "outputs": [
    {
     "name": "stdout",
     "output_type": "stream",
     "text": [
      "a    3\n",
      "b    5\n",
      "c    7\n",
      "dtype: int32\n"
     ]
    }
   ],
   "source": [
    "#用NumPy数组创建Series\n",
    "sr1=pd.Series(np.arange(3,9,2),index=['a','b','c'])\n",
    "print(sr1)"
   ]
  },
  {
   "cell_type": "code",
   "execution_count": 6,
   "metadata": {},
   "outputs": [
    {
     "name": "stdout",
     "output_type": "stream",
     "text": [
      "red        100\n",
      "blue       200\n",
      "green      500\n",
      "yellow    1000\n",
      "dtype: int64\n"
     ]
    }
   ],
   "source": [
    "#用字典创建Series\n",
    "sr2=pd.Series({'red':100,'blue':200,'green':500,'yellow':1000})\n",
    "print(sr2)"
   ]
  }
 ],
 "metadata": {
  "kernelspec": {
   "display_name": "Python 3",
   "language": "python",
   "name": "python3"
  },
  "language_info": {
   "codemirror_mode": {
    "name": "ipython",
    "version": 3
   },
   "file_extension": ".py",
   "mimetype": "text/x-python",
   "name": "python",
   "nbconvert_exporter": "python",
   "pygments_lexer": "ipython3",
   "version": "3.8.8"
  }
 },
 "nbformat": 4,
 "nbformat_minor": 4
}
