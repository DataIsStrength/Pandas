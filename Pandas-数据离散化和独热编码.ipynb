{
 "cells": [
  {
   "cell_type": "markdown",
   "id": "b2c06066",
   "metadata": {},
   "source": [
    "Pandas-数据离散化和独热编码"
   ]
  },
  {
   "cell_type": "code",
   "execution_count": 1,
   "id": "c301356a",
   "metadata": {},
   "outputs": [],
   "source": [
    "#导入NumPy包\n",
    "import numpy as np\n",
    "#导入Pandas包\n",
    "import pandas as pd"
   ]
  },
  {
   "cell_type": "code",
   "execution_count": 2,
   "id": "83dbd1c6",
   "metadata": {},
   "outputs": [
    {
     "data": {
      "text/plain": [
       "'\\n1.数据离散化：\\n连续变量的离散化就是将连续变量的值域划分为若干个离散的区间，然后用不同的符号或者整数值代表落在每个子区间的值。\\n也就是用虚拟变量来表示不同区间的连续变量。\\n2.数据离散化的步骤：\\n①分组；\\n②准换为独热编码（即虚拟变量）。\\n'"
      ]
     },
     "execution_count": 2,
     "metadata": {},
     "output_type": "execute_result"
    }
   ],
   "source": [
    "'''\n",
    "1.数据离散化：\n",
    "连续变量的离散化就是将连续变量的值域划分为若干个离散的区间，然后用不同的符号或者整数值代表落在每个子区间的值。\n",
    "也就是用虚拟变量来表示不同区间的连续变量。\n",
    "2.数据离散化的步骤：\n",
    "①分组；\n",
    "②准换为独热编码（即虚拟变量）。\n",
    "'''"
   ]
  },
  {
   "cell_type": "code",
   "execution_count": 3,
   "id": "9ff2bbf7",
   "metadata": {},
   "outputs": [],
   "source": [
    "#导入数据\n",
    "data=pd.Series([165,174,160,180,159,163,192,184],index=['No1:165','No2:174','No3:160','No4:180','No5:159','No6:163','No7:192','No8:184']) "
   ]
  },
  {
   "cell_type": "code",
   "execution_count": 4,
   "id": "8f24b6df",
   "metadata": {},
   "outputs": [
    {
     "data": {
      "text/plain": [
       "No1:165    165\n",
       "No2:174    174\n",
       "No3:160    160\n",
       "No4:180    180\n",
       "No5:159    159\n",
       "No6:163    163\n",
       "No7:192    192\n",
       "No8:184    184\n",
       "dtype: int64"
      ]
     },
     "execution_count": 4,
     "metadata": {},
     "output_type": "execute_result"
    }
   ],
   "source": [
    "data"
   ]
  },
  {
   "cell_type": "code",
   "execution_count": 5,
   "id": "a8f0fc7b",
   "metadata": {},
   "outputs": [
    {
     "name": "stdout",
     "output_type": "stream",
     "text": [
      "No1:165      (163.667, 178.0]\n",
      "No2:174      (163.667, 178.0]\n",
      "No3:160    (158.999, 163.667]\n",
      "No4:180        (178.0, 192.0]\n",
      "No5:159    (158.999, 163.667]\n",
      "No6:163    (158.999, 163.667]\n",
      "No7:192        (178.0, 192.0]\n",
      "No8:184        (178.0, 192.0]\n",
      "dtype: category\n",
      "Categories (3, interval[float64]): [(158.999, 163.667] < (163.667, 178.0] < (178.0, 192.0]]\n",
      "(158.999, 163.667]    3\n",
      "(178.0, 192.0]        3\n",
      "(163.667, 178.0]      2\n",
      "dtype: int64\n",
      "No1:165    (150, 165]\n",
      "No2:174    (165, 180]\n",
      "No3:160    (150, 165]\n",
      "No4:180    (165, 180]\n",
      "No5:159    (150, 165]\n",
      "No6:163    (150, 165]\n",
      "No7:192    (180, 195]\n",
      "No8:184    (180, 195]\n",
      "dtype: category\n",
      "Categories (3, interval[int64]): [(150, 165] < (165, 180] < (180, 195]]\n",
      "(150, 165]    4\n",
      "(165, 180]    2\n",
      "(180, 195]    2\n",
      "dtype: int64\n"
     ]
    }
   ],
   "source": [
    "#分组\n",
    "\n",
    "#自动分组，第二个参数是组数\n",
    "data1=pd.qcut(data,3)\n",
    "print(data1)\n",
    "#返回每组的数量\n",
    "print(data1.value_counts())\n",
    "\n",
    "#手动分组，第二个参数是分组的区间分界点\n",
    "bins=[150,165,180,195]\n",
    "data2=pd.cut(data,bins)\n",
    "print(data2)\n",
    "#返回每组的数量\n",
    "print(data2.value_counts())"
   ]
  },
  {
   "cell_type": "code",
   "execution_count": 6,
   "id": "2ee173c5",
   "metadata": {
    "scrolled": true
   },
   "outputs": [
    {
     "data": {
      "text/html": [
       "<div>\n",
       "<style scoped>\n",
       "    .dataframe tbody tr th:only-of-type {\n",
       "        vertical-align: middle;\n",
       "    }\n",
       "\n",
       "    .dataframe tbody tr th {\n",
       "        vertical-align: top;\n",
       "    }\n",
       "\n",
       "    .dataframe thead th {\n",
       "        text-align: right;\n",
       "    }\n",
       "</style>\n",
       "<table border=\"1\" class=\"dataframe\">\n",
       "  <thead>\n",
       "    <tr style=\"text-align: right;\">\n",
       "      <th></th>\n",
       "      <th>height_(150, 165]</th>\n",
       "      <th>height_(165, 180]</th>\n",
       "      <th>height_(180, 195]</th>\n",
       "    </tr>\n",
       "  </thead>\n",
       "  <tbody>\n",
       "    <tr>\n",
       "      <th>No1:165</th>\n",
       "      <td>1</td>\n",
       "      <td>0</td>\n",
       "      <td>0</td>\n",
       "    </tr>\n",
       "    <tr>\n",
       "      <th>No2:174</th>\n",
       "      <td>0</td>\n",
       "      <td>1</td>\n",
       "      <td>0</td>\n",
       "    </tr>\n",
       "    <tr>\n",
       "      <th>No3:160</th>\n",
       "      <td>1</td>\n",
       "      <td>0</td>\n",
       "      <td>0</td>\n",
       "    </tr>\n",
       "    <tr>\n",
       "      <th>No4:180</th>\n",
       "      <td>0</td>\n",
       "      <td>1</td>\n",
       "      <td>0</td>\n",
       "    </tr>\n",
       "    <tr>\n",
       "      <th>No5:159</th>\n",
       "      <td>1</td>\n",
       "      <td>0</td>\n",
       "      <td>0</td>\n",
       "    </tr>\n",
       "    <tr>\n",
       "      <th>No6:163</th>\n",
       "      <td>1</td>\n",
       "      <td>0</td>\n",
       "      <td>0</td>\n",
       "    </tr>\n",
       "    <tr>\n",
       "      <th>No7:192</th>\n",
       "      <td>0</td>\n",
       "      <td>0</td>\n",
       "      <td>1</td>\n",
       "    </tr>\n",
       "    <tr>\n",
       "      <th>No8:184</th>\n",
       "      <td>0</td>\n",
       "      <td>0</td>\n",
       "      <td>1</td>\n",
       "    </tr>\n",
       "  </tbody>\n",
       "</table>\n",
       "</div>"
      ],
      "text/plain": [
       "         height_(150, 165]  height_(165, 180]  height_(180, 195]\n",
       "No1:165                  1                  0                  0\n",
       "No2:174                  0                  1                  0\n",
       "No3:160                  1                  0                  0\n",
       "No4:180                  0                  1                  0\n",
       "No5:159                  1                  0                  0\n",
       "No6:163                  1                  0                  0\n",
       "No7:192                  0                  0                  1\n",
       "No8:184                  0                  0                  1"
      ]
     },
     "execution_count": 6,
     "metadata": {},
     "output_type": "execute_result"
    }
   ],
   "source": [
    "#独热编码\n",
    "pd.get_dummies(data2,prefix='height')"
   ]
  }
 ],
 "metadata": {
  "kernelspec": {
   "display_name": "Python 3",
   "language": "python",
   "name": "python3"
  },
  "language_info": {
   "codemirror_mode": {
    "name": "ipython",
    "version": 3
   },
   "file_extension": ".py",
   "mimetype": "text/x-python",
   "name": "python",
   "nbconvert_exporter": "python",
   "pygments_lexer": "ipython3",
   "version": "3.8.10"
  }
 },
 "nbformat": 4,
 "nbformat_minor": 5
}
